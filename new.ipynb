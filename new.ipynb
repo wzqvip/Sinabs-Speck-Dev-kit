{
 "cells": [
  {
   "cell_type": "code",
   "execution_count": 5,
   "id": "6f279e21",
   "metadata": {},
   "outputs": [
    {
     "name": "stdout",
     "output_type": "stream",
     "text": [
      "Note: you may need to restart the kernel to use updated packages.\n"
     ]
    },
    {
     "name": "stderr",
     "output_type": "stream",
     "text": [
      "ERROR: Could not find a version that satisfies the requirement torch==1.13.1 (from versions: 2.2.0, 2.2.1, 2.2.2, 2.3.0, 2.3.1, 2.4.0, 2.4.1, 2.5.0, 2.5.1, 2.6.0)\n",
      "ERROR: No matching distribution found for torch==1.13.1\n"
     ]
    }
   ],
   "source": [
    "%pip install -r ./requirements.txt"
   ]
  },
  {
   "cell_type": "code",
   "execution_count": 1,
   "id": "2651dff1",
   "metadata": {},
   "outputs": [
    {
     "ename": "ModuleNotFoundError",
     "evalue": "No module named 'tonic'",
     "output_type": "error",
     "traceback": [
      "\u001b[31m---------------------------------------------------------------------------\u001b[39m",
      "\u001b[31mModuleNotFoundError\u001b[39m                       Traceback (most recent call last)",
      "\u001b[36mCell\u001b[39m\u001b[36m \u001b[39m\u001b[32mIn[1]\u001b[39m\u001b[32m, line 1\u001b[39m\n\u001b[32m----> \u001b[39m\u001b[32m1\u001b[39m \u001b[38;5;28;01mfrom\u001b[39;00m\u001b[38;5;250m \u001b[39m\u001b[34;01mtonic\u001b[39;00m\u001b[34;01m.\u001b[39;00m\u001b[34;01mdatasets\u001b[39;00m\u001b[34;01m.\u001b[39;00m\u001b[34;01mnmnist\u001b[39;00m\u001b[38;5;250m \u001b[39m\u001b[38;5;28;01mimport\u001b[39;00m NMNIST\n\u001b[32m      2\u001b[39m \u001b[38;5;28;01mfrom\u001b[39;00m\u001b[38;5;250m \u001b[39m\u001b[34;01mtonic\u001b[39;00m\u001b[34;01m.\u001b[39;00m\u001b[34;01mtransforms\u001b[39;00m\u001b[38;5;250m \u001b[39m\u001b[38;5;28;01mimport\u001b[39;00m ToFrame\n\u001b[32m      4\u001b[39m root_dir = \u001b[33m\"\u001b[39m\u001b[33m./NMNIST\u001b[39m\u001b[33m\"\u001b[39m\n",
      "\u001b[31mModuleNotFoundError\u001b[39m: No module named 'tonic'"
     ]
    }
   ],
   "source": [
    "from tonic.datasets.nmnist import NMNIST\n",
    "from tonic.transforms import ToFrame\n",
    "\n",
    "root_dir = \"./NMNIST\"\n",
    "NMNIST(save_to=root_dir, train=True)\n",
    "NMNIST(save_to=root_dir, train=False)\n",
    "\n",
    "to_raster = ToFrame(sensor_size=(34, 34), n_time_bins=100)\n",
    "dataset = NMNIST(save_to=root_dir, train=False, transform=to_raster)\n"
   ]
  },
  {
   "cell_type": "code",
   "execution_count": null,
   "id": "49842437",
   "metadata": {},
   "outputs": [],
   "source": [
    "from torch import nn\n",
    "\n",
    "cnn = nn.Sequential(\n",
    "    nn.Conv2d(2, 8, 3, padding=1, bias=False),\n",
    "    nn.ReLU(),\n",
    "    nn.AvgPool2d(2),\n",
    "    nn.Conv2d(8, 16, 3, padding=1, bias=False),\n",
    "    nn.ReLU(),\n",
    "    nn.AvgPool2d(2),\n",
    "    nn.Conv2d(16, 16, 3, padding=1, stride=2, bias=False),\n",
    "    nn.ReLU(),\n",
    "    nn.Flatten(),\n",
    "    nn.Linear(256, 10, bias=False),\n",
    "    nn.ReLU()\n",
    ")\n"
   ]
  },
  {
   "cell_type": "code",
   "execution_count": null,
   "id": "188a7aa5",
   "metadata": {},
   "outputs": [],
   "source": [
    "from sinabs.from_torch import from_model\n",
    "\n",
    "snn_convert = from_model(model=cnn, input_shape=(2, 34, 34), batch_size=4).spiking_model\n"
   ]
  },
  {
   "cell_type": "code",
   "execution_count": null,
   "id": "18aeb5cf",
   "metadata": {},
   "outputs": [],
   "source": [
    "from sinabs.backend.dynapcnn import DynapcnnNetwork\n",
    "\n",
    "cpu_snn = snn_convert.to(\"cpu\")\n",
    "dynapcnn = DynapcnnNetwork(snn=cpu_snn, input_shape=(2, 34, 34), discretize=True, dvs_input=False)\n",
    "dynapcnn.to(device=\"speck2fmodule\", chip_layers_ordering=\"auto\")\n"
   ]
  },
  {
   "cell_type": "code",
   "execution_count": null,
   "id": "e666c8f3",
   "metadata": {},
   "outputs": [],
   "source": [
    "from sinabs.backend.dynapcnn.dynapcnn_visualizer import DynapcnnVisualizer\n",
    "\n",
    "visualizer = DynapcnnVisualizer(window_scale=(4, 8), dvs_shape=(34, 34), spike_collection_interval=50)\n",
    "visualizer.connect(dynapcnn)\n"
   ]
  },
  {
   "cell_type": "code",
   "execution_count": null,
   "id": "f5393ef8",
   "metadata": {},
   "outputs": [],
   "source": [
    "dvs_event = samna.speck2f.event.DvsEvent()\n",
    "# 设置 dvs_event 的属性：x, y, t, p\n",
    "# 然后发送到 devkit 推理\n",
    "output = dynapcnn([dvs_event])\n"
   ]
  }
 ],
 "metadata": {
  "kernelspec": {
   "display_name": "py312",
   "language": "python",
   "name": "python3"
  },
  "language_info": {
   "codemirror_mode": {
    "name": "ipython",
    "version": 3
   },
   "file_extension": ".py",
   "mimetype": "text/x-python",
   "name": "python",
   "nbconvert_exporter": "python",
   "pygments_lexer": "ipython3",
   "version": "3.12.9"
  }
 },
 "nbformat": 4,
 "nbformat_minor": 5
}
