{
 "cells": [
  {
   "cell_type": "code",
   "execution_count": 1,
   "id": "6f279e21",
   "metadata": {},
   "outputs": [],
   "source": [
    "#%pip install -r ./requirements.txt"
   ]
  },
  {
   "cell_type": "code",
   "execution_count": 2,
   "id": "2651dff1",
   "metadata": {},
   "outputs": [
    {
     "name": "stderr",
     "output_type": "stream",
     "text": [
      "/usr/local/Caskroom/miniconda/base/envs/py310/lib/python3.10/site-packages/tqdm/auto.py:21: TqdmWarning: IProgress not found. Please update jupyter and ipywidgets. See https://ipywidgets.readthedocs.io/en/stable/user_install.html\n",
      "  from .autonotebook import tqdm as notebook_tqdm\n"
     ]
    }
   ],
   "source": [
    "from tonic.datasets.nmnist import NMNIST\n",
    "from tonic.transforms import ToFrame\n",
    "\n",
    "root_dir = \"./NMNIST\"\n",
    "NMNIST(save_to=root_dir, train=True)\n",
    "NMNIST(save_to=root_dir, train=False)\n",
    "\n",
    "to_raster = ToFrame(sensor_size=(34, 34), n_time_bins=100)\n",
    "dataset = NMNIST(save_to=root_dir, train=False, transform=to_raster)\n"
   ]
  },
  {
   "cell_type": "code",
   "execution_count": 3,
   "id": "49842437",
   "metadata": {},
   "outputs": [],
   "source": [
    "from torch import nn\n",
    "\n",
    "cnn = nn.Sequential(\n",
    "    nn.Conv2d(2, 8, 3, padding=1, bias=False),\n",
    "    nn.ReLU(),\n",
    "    nn.AvgPool2d(2),\n",
    "    nn.Conv2d(8, 16, 3, padding=1, bias=False),\n",
    "    nn.ReLU(),\n",
    "    nn.AvgPool2d(2),\n",
    "    nn.Conv2d(16, 16, 3, padding=1, stride=2, bias=False),\n",
    "    nn.ReLU(),\n",
    "    nn.Flatten(),\n",
    "    nn.Linear(256, 10, bias=False),\n",
    "    nn.ReLU()\n",
    ")\n"
   ]
  },
  {
   "cell_type": "code",
   "execution_count": 4,
   "id": "188a7aa5",
   "metadata": {},
   "outputs": [],
   "source": [
    "from sinabs.from_torch import from_model\n",
    "\n",
    "snn_convert = from_model(model=cnn, input_shape=(2, 34, 34), batch_size=4).spiking_model\n"
   ]
  },
  {
   "cell_type": "code",
   "execution_count": 7,
   "id": "18aeb5cf",
   "metadata": {},
   "outputs": [
    {
     "name": "stdout",
     "output_type": "stream",
     "text": [
      "Network is valid\n"
     ]
    },
    {
     "ename": "KeyError",
     "evalue": "'speck2fmodule:0'",
     "output_type": "error",
     "traceback": [
      "\u001b[0;31m---------------------------------------------------------------------------\u001b[0m",
      "\u001b[0;31mKeyError\u001b[0m                                  Traceback (most recent call last)",
      "Cell \u001b[0;32mIn[7], line 5\u001b[0m\n\u001b[1;32m      3\u001b[0m cpu_snn \u001b[38;5;241m=\u001b[39m snn_convert\u001b[38;5;241m.\u001b[39mto(\u001b[38;5;124m\"\u001b[39m\u001b[38;5;124mcpu\u001b[39m\u001b[38;5;124m\"\u001b[39m)\n\u001b[1;32m      4\u001b[0m dynapcnn \u001b[38;5;241m=\u001b[39m DynapcnnNetwork(snn\u001b[38;5;241m=\u001b[39mcpu_snn, input_shape\u001b[38;5;241m=\u001b[39m(\u001b[38;5;241m2\u001b[39m, \u001b[38;5;241m34\u001b[39m, \u001b[38;5;241m34\u001b[39m), discretize\u001b[38;5;241m=\u001b[39m\u001b[38;5;28;01mTrue\u001b[39;00m, dvs_input\u001b[38;5;241m=\u001b[39m\u001b[38;5;28;01mFalse\u001b[39;00m)\n\u001b[0;32m----> 5\u001b[0m \u001b[43mdynapcnn\u001b[49m\u001b[38;5;241;43m.\u001b[39;49m\u001b[43mto\u001b[49m\u001b[43m(\u001b[49m\u001b[43mdevice\u001b[49m\u001b[38;5;241;43m=\u001b[39;49m\u001b[38;5;124;43m\"\u001b[39;49m\u001b[38;5;124;43mspeck2fmodule\u001b[39;49m\u001b[38;5;124;43m\"\u001b[39;49m\u001b[43m,\u001b[49m\u001b[43m \u001b[49m\u001b[43mchip_layers_ordering\u001b[49m\u001b[38;5;241;43m=\u001b[39;49m\u001b[38;5;124;43m\"\u001b[39;49m\u001b[38;5;124;43mauto\u001b[39;49m\u001b[38;5;124;43m\"\u001b[39;49m\u001b[43m)\u001b[49m\n",
      "File \u001b[0;32m/usr/local/Caskroom/miniconda/base/envs/py310/lib/python3.10/site-packages/sinabs/backend/dynapcnn/dynapcnn_network.py:155\u001b[0m, in \u001b[0;36mDynapcnnNetwork.to\u001b[0;34m(self, device, chip_layers_ordering, monitor_layers, config_modifier, slow_clk_frequency)\u001b[0m\n\u001b[1;32m    147\u001b[0m config \u001b[38;5;241m=\u001b[39m \u001b[38;5;28mself\u001b[39m\u001b[38;5;241m.\u001b[39mmake_config(\n\u001b[1;32m    148\u001b[0m     chip_layers_ordering\u001b[38;5;241m=\u001b[39mchip_layers_ordering,\n\u001b[1;32m    149\u001b[0m     device\u001b[38;5;241m=\u001b[39mdevice,\n\u001b[1;32m    150\u001b[0m     monitor_layers\u001b[38;5;241m=\u001b[39mmonitor_layers,\n\u001b[1;32m    151\u001b[0m     config_modifier\u001b[38;5;241m=\u001b[39mconfig_modifier,\n\u001b[1;32m    152\u001b[0m )\n\u001b[1;32m    154\u001b[0m \u001b[38;5;66;03m# Apply configuration to device\u001b[39;00m\n\u001b[0;32m--> 155\u001b[0m \u001b[38;5;28mself\u001b[39m\u001b[38;5;241m.\u001b[39msamna_device \u001b[38;5;241m=\u001b[39m \u001b[43mopen_device\u001b[49m\u001b[43m(\u001b[49m\u001b[43mdevice\u001b[49m\u001b[43m)\u001b[49m\n\u001b[1;32m    156\u001b[0m \u001b[38;5;28mself\u001b[39m\u001b[38;5;241m.\u001b[39msamna_device\u001b[38;5;241m.\u001b[39mget_model()\u001b[38;5;241m.\u001b[39mapply_configuration(config)\n\u001b[1;32m    157\u001b[0m time\u001b[38;5;241m.\u001b[39msleep(\u001b[38;5;241m1\u001b[39m)\n",
      "File \u001b[0;32m/usr/local/Caskroom/miniconda/base/envs/py310/lib/python3.10/site-packages/sinabs/backend/dynapcnn/io.py:255\u001b[0m, in \u001b[0;36mopen_device\u001b[0;34m(device_id)\u001b[0m\n\u001b[1;32m    253\u001b[0m device_id \u001b[38;5;241m=\u001b[39m standardize_device_id(device_id\u001b[38;5;241m=\u001b[39mdevice_id)\n\u001b[1;32m    254\u001b[0m device_map \u001b[38;5;241m=\u001b[39m get_device_map()\n\u001b[0;32m--> 255\u001b[0m device_info \u001b[38;5;241m=\u001b[39m \u001b[43mdevice_map\u001b[49m\u001b[43m[\u001b[49m\u001b[43mdevice_id\u001b[49m\u001b[43m]\u001b[49m\n\u001b[1;32m    256\u001b[0m device_handle \u001b[38;5;241m=\u001b[39m samna\u001b[38;5;241m.\u001b[39mdevice\u001b[38;5;241m.\u001b[39mopen_device(device_info)\n\u001b[1;32m    258\u001b[0m \u001b[38;5;28;01mif\u001b[39;00m device_handle \u001b[38;5;129;01mis\u001b[39;00m \u001b[38;5;129;01mnot\u001b[39;00m \u001b[38;5;28;01mNone\u001b[39;00m:\n",
      "\u001b[0;31mKeyError\u001b[0m: 'speck2fmodule:0'"
     ]
    }
   ],
   "source": [
    "from sinabs.backend.dynapcnn import DynapcnnNetwork\n",
    "\n",
    "cpu_snn = snn_convert.to(\"cpu\")\n",
    "dynapcnn = DynapcnnNetwork(snn=cpu_snn, input_shape=(2, 34, 34), discretize=True, dvs_input=False)\n",
    "dynapcnn.to(device=\"speck2fmodule\", chip_layers_ordering=\"auto\")\n"
   ]
  },
  {
   "cell_type": "code",
   "execution_count": null,
   "id": "e666c8f3",
   "metadata": {},
   "outputs": [],
   "source": [
    "from sinabs.backend.dynapcnn.dynapcnn_visualizer import DynapcnnVisualizer\n",
    "\n",
    "visualizer = DynapcnnVisualizer(window_scale=(4, 8), dvs_shape=(34, 34), spike_collection_interval=50)\n",
    "visualizer.connect(dynapcnn)\n"
   ]
  },
  {
   "cell_type": "code",
   "execution_count": null,
   "id": "f5393ef8",
   "metadata": {},
   "outputs": [],
   "source": [
    "dvs_event = samna.speck2f.event.DvsEvent()\n",
    "# 设置 dvs_event 的属性：x, y, t, p\n",
    "# 然后发送到 devkit 推理\n",
    "output = dynapcnn([dvs_event])\n"
   ]
  },
  {
   "cell_type": "code",
   "execution_count": 11,
   "id": "e4d691a2",
   "metadata": {},
   "outputs": [
    {
     "ename": "AttributeError",
     "evalue": "'samna.speck2fBoards.Speck2fDevKit' object has no attribute 'get_serial_number'",
     "output_type": "error",
     "traceback": [
      "\u001b[0;31m---------------------------------------------------------------------------\u001b[0m",
      "\u001b[0;31mAttributeError\u001b[0m                            Traceback (most recent call last)",
      "Cell \u001b[0;32mIn[11], line 14\u001b[0m\n\u001b[1;32m     11\u001b[0m my_board \u001b[38;5;241m=\u001b[39m samna\u001b[38;5;241m.\u001b[39mdevice\u001b[38;5;241m.\u001b[39mopen_device(devices[\u001b[38;5;241m0\u001b[39m])\n\u001b[1;32m     13\u001b[0m \u001b[38;5;66;03m# 获取设备的 serial_number\u001b[39;00m\n\u001b[0;32m---> 14\u001b[0m device_id \u001b[38;5;241m=\u001b[39m \u001b[43mmy_board\u001b[49m\u001b[38;5;241;43m.\u001b[39;49m\u001b[43mget_serial_number\u001b[49m()  \u001b[38;5;66;03m# 获取设备的 serial_number 作为设备 ID\u001b[39;00m\n\u001b[1;32m     16\u001b[0m \u001b[38;5;66;03m# 你的 SNN 模型，例如通过 CNN -> SNN 转换得到\u001b[39;00m\n\u001b[1;32m     17\u001b[0m snn_model \u001b[38;5;241m=\u001b[39m from_model(\n\u001b[1;32m     18\u001b[0m     model\u001b[38;5;241m=\u001b[39mcnn,  \u001b[38;5;66;03m# 你的 CNN 模型\u001b[39;00m\n\u001b[1;32m     19\u001b[0m     input_shape\u001b[38;5;241m=\u001b[39m(\u001b[38;5;241m2\u001b[39m, \u001b[38;5;241m34\u001b[39m, \u001b[38;5;241m34\u001b[39m),\n\u001b[1;32m     20\u001b[0m     batch_size\u001b[38;5;241m=\u001b[39m\u001b[38;5;241m4\u001b[39m\n\u001b[1;32m     21\u001b[0m )\u001b[38;5;241m.\u001b[39mspiking_model\n",
      "\u001b[0;31mAttributeError\u001b[0m: 'samna.speck2fBoards.Speck2fDevKit' object has no attribute 'get_serial_number'"
     ]
    }
   ],
   "source": [
    "import samna\n",
    "from sinabs.from_torch import from_model\n",
    "from sinabs.backend.dynapcnn import DynapcnnNetwork\n",
    "\n",
    "# 打开设备\n",
    "devices = samna.device.get_unopened_devices()\n",
    "if len(devices) == 0:\n",
    "    raise Exception(\"No devices found\")\n",
    "\n",
    "# 打开第一个设备\n",
    "my_board = samna.device.open_device(devices[0])\n",
    "\n",
    "# 获取设备的 serial_number\n",
    "device_id = my_board.get_serial_number()  # 获取设备的 serial_number 作为设备 ID\n",
    "\n",
    "# 你的 SNN 模型，例如通过 CNN -> SNN 转换得到\n",
    "snn_model = from_model(\n",
    "    model=cnn,  # 你的 CNN 模型\n",
    "    input_shape=(2, 34, 34),\n",
    "    batch_size=4\n",
    ").spiking_model\n",
    "\n",
    "# 包装为 DynapcnnNetwork\n",
    "dynapcnn = DynapcnnNetwork(\n",
    "    snn=snn_model.to(\"cpu\"),\n",
    "    input_shape=(2, 34, 34),\n",
    "    discretize=True,\n",
    "    dvs_input=False\n",
    ")\n",
    "\n",
    "# ✅ 使用 serial_number 作为设备标识符\n",
    "dynapcnn.to(device=device_id, chip_layers_ordering=\"auto\")\n",
    "\n",
    "print(f\"✅ 模型成功部署到 SPECK！部署到核心顺序为: {dynapcnn.chip_layers_ordering}\")\n"
   ]
  }
 ],
 "metadata": {
  "kernelspec": {
   "display_name": "py310",
   "language": "python",
   "name": "python3"
  },
  "language_info": {
   "codemirror_mode": {
    "name": "ipython",
    "version": 3
   },
   "file_extension": ".py",
   "mimetype": "text/x-python",
   "name": "python",
   "nbconvert_exporter": "python",
   "pygments_lexer": "ipython3",
   "version": "3.10.16"
  }
 },
 "nbformat": 4,
 "nbformat_minor": 5
}
