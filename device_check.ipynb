{
 "cells": [
  {
   "cell_type": "code",
   "execution_count": 3,
   "id": "ed64cd49",
   "metadata": {},
   "outputs": [
    {
     "ename": "AttributeError",
     "evalue": "module 'samna.device' has no attribute 'get_device_map'",
     "output_type": "error",
     "traceback": [
      "\u001b[0;31m---------------------------------------------------------------------------\u001b[0m",
      "\u001b[0;31mAttributeError\u001b[0m                            Traceback (most recent call last)",
      "Cell \u001b[0;32mIn[3], line 3\u001b[0m\n\u001b[1;32m      1\u001b[0m \u001b[38;5;28;01mimport\u001b[39;00m\u001b[38;5;250m \u001b[39m\u001b[38;5;21;01msamna\u001b[39;00m\n\u001b[0;32m----> 3\u001b[0m device_map \u001b[38;5;241m=\u001b[39m \u001b[43msamna\u001b[49m\u001b[38;5;241;43m.\u001b[39;49m\u001b[43mdevice\u001b[49m\u001b[38;5;241;43m.\u001b[39;49m\u001b[43mget_device_map\u001b[49m()\n\u001b[1;32m      4\u001b[0m \u001b[38;5;28mprint\u001b[39m(\u001b[38;5;124m\"\u001b[39m\u001b[38;5;124mAvailable devices:\u001b[39m\u001b[38;5;124m\"\u001b[39m, device_map)\n",
      "\u001b[0;31mAttributeError\u001b[0m: module 'samna.device' has no attribute 'get_device_map'"
     ]
    }
   ],
   "source": [
    "import samna\n",
    "\n",
    "device_map = samna.device.get_device_map()\n",
    "print(\"Available devices:\", device_map)\n"
   ]
  },
  {
   "cell_type": "code",
   "execution_count": 1,
   "id": "0e2ac12f",
   "metadata": {},
   "outputs": [
    {
     "data": {
      "text/plain": [
       "<samna.speck2fBoards.Speck2fDevKit at 0x1057978b0>"
      ]
     },
     "execution_count": 1,
     "metadata": {},
     "output_type": "execute_result"
    }
   ],
   "source": [
    "import samna\n",
    "\n",
    "# Using the device controller we can retrieve a list of the supported devices\n",
    "# currently connected to the system\n",
    "devices = samna.device.get_unopened_devices()\n",
    "\n",
    "# We can select a device based on the type of device, or serial number\n",
    "# If we only have 1 device connected we can simply choose that one\n",
    "if len(devices) == 0:\n",
    "    raise Exception(\"No devices found\")\n",
    "\n",
    "chosen_board = devices[0]\n",
    "\n",
    "# open the board and give it the name \"my_board\"\n",
    "my_board = samna.device.open_device(chosen_board)\n",
    "\n",
    "my_board"
   ]
  }
 ],
 "metadata": {
  "kernelspec": {
   "display_name": "py310",
   "language": "python",
   "name": "python3"
  },
  "language_info": {
   "codemirror_mode": {
    "name": "ipython",
    "version": 3
   },
   "file_extension": ".py",
   "mimetype": "text/x-python",
   "name": "python",
   "nbconvert_exporter": "python",
   "pygments_lexer": "ipython3",
   "version": "3.10.16"
  }
 },
 "nbformat": 4,
 "nbformat_minor": 5
}
