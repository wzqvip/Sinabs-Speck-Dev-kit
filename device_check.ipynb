{
 "cells": [
  {
   "cell_type": "code",
   "execution_count": null,
   "id": "0e2ac12f",
   "metadata": {},
   "outputs": [
    {
     "data": {
      "text/plain": [
       "<samna.speck2fBoards.Speck2fDevKit at 0x1057978b0>"
      ]
     },
     "execution_count": 1,
     "metadata": {},
     "output_type": "execute_result"
    }
   ],
   "source": [
    "import samna\n",
    "\n",
    "# Using the device controller we can retrieve a list of the supported devices\n",
    "# currently connected to the system\n",
    "devices = samna.device.get_unopened_devices()\n",
    "\n",
    "# We can select a device based on the type of device, or serial number\n",
    "# If we only have 1 device connected we can simply choose that one\n",
    "if len(devices) == 0:\n",
    "    raise Exception(\"No devices found\")\n",
    "\n",
    "chosen_board = devices[0]\n",
    "\n",
    "# open the board and give it the name \"my_board\"\n",
    "my_board = samna.device.open_device(chosen_board)\n",
    "\n",
    "my_board"
   ]
  }
 ],
 "metadata": {
  "kernelspec": {
   "display_name": "py310",
   "language": "python",
   "name": "python3"
  },
  "language_info": {
   "codemirror_mode": {
    "name": "ipython",
    "version": 3
   },
   "file_extension": ".py",
   "mimetype": "text/x-python",
   "name": "python",
   "nbconvert_exporter": "python",
   "pygments_lexer": "ipython3",
   "version": "3.10.16"
  }
 },
 "nbformat": 4,
 "nbformat_minor": 5
}
